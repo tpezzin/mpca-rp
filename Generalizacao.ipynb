{
  "nbformat": 4,
  "nbformat_minor": 0,
  "metadata": {
    "colab": {
      "provenance": [],
      "collapsed_sections": [],
      "include_colab_link": true
    },
    "kernelspec": {
      "name": "python3",
      "display_name": "Python 3"
    },
    "language_info": {
      "name": "python"
    }
  },
  "cells": [
    {
      "cell_type": "markdown",
      "metadata": {
        "id": "view-in-github",
        "colab_type": "text"
      },
      "source": [
        "<a href=\"https://colab.research.google.com/github/tpezzin/mpca-rp/blob/main/Generalizacao.ipynb\" target=\"_parent\"><img src=\"https://colab.research.google.com/assets/colab-badge.svg\" alt=\"Open In Colab\"/></a>"
      ]
    },
    {
      "cell_type": "markdown",
      "source": [
        "# Generalização\n",
        "### Resolvendo problema de Classificação: Heart Disease\n",
        "\n",
        "Dataset utilizado: [Heart Disease](https://www.kaggle.com/code/vijayravichandran06/heart-disease-classification-in-sklearn/data)\n",
        "\n",
        "Baixei o dataset e salvei em meu Google Drive"
      ],
      "metadata": {
        "id": "e6Nbo_PvZ11k"
      }
    },
    {
      "cell_type": "code",
      "source": [
        "import pandas as pd\n",
        "import numpy as np"
      ],
      "metadata": {
        "id": "cyqI1j6laqGW"
      },
      "execution_count": 1,
      "outputs": []
    },
    {
      "cell_type": "code",
      "source": [
        "from google.colab import drive\n",
        "\n",
        "drive.mount('/content/gdrive')\n",
        "!ln -s /content/gdrive/My\\ Drive/ /mydrive"
      ],
      "metadata": {
        "colab": {
          "base_uri": "https://localhost:8080/"
        },
        "id": "oz3aitn6cAn9",
        "outputId": "906ce941-32f6-4844-bd90-b8e257afca75"
      },
      "execution_count": 2,
      "outputs": [
        {
          "output_type": "stream",
          "name": "stdout",
          "text": [
            "Drive already mounted at /content/gdrive; to attempt to forcibly remount, call drive.mount(\"/content/gdrive\", force_remount=True).\n",
            "ln: failed to create symbolic link '/mydrive/My Drive': File exists\n"
          ]
        }
      ]
    },
    {
      "cell_type": "code",
      "source": [
        "df = pd.read_csv('/mydrive/RecPad/Aula04/heart.csv')"
      ],
      "metadata": {
        "id": "eA9WO6w9cEIA"
      },
      "execution_count": 3,
      "outputs": []
    },
    {
      "cell_type": "code",
      "source": [
        "df.head()"
      ],
      "metadata": {
        "colab": {
          "base_uri": "https://localhost:8080/",
          "height": 206
        },
        "id": "rNY2CvUgcVq0",
        "outputId": "56a670c5-0aca-4bd8-c419-5bd64ad5f174"
      },
      "execution_count": 4,
      "outputs": [
        {
          "output_type": "execute_result",
          "data": {
            "text/plain": [
              "   age  sex  cp  trestbps  chol  fbs  restecg  thalach  exang  oldpeak  slope  \\\n",
              "0   63    1   3       145   233    1        0      150      0      2.3      0   \n",
              "1   37    1   2       130   250    0        1      187      0      3.5      0   \n",
              "2   41    0   1       130   204    0        0      172      0      1.4      2   \n",
              "3   56    1   1       120   236    0        1      178      0      0.8      2   \n",
              "4   57    0   0       120   354    0        1      163      1      0.6      2   \n",
              "\n",
              "   ca  thal  target  \n",
              "0   0     1       1  \n",
              "1   0     2       1  \n",
              "2   0     2       1  \n",
              "3   0     2       1  \n",
              "4   0     2       1  "
            ],
            "text/html": [
              "\n",
              "  <div id=\"df-9f22043f-2d65-40fa-9a89-077c08bd450e\">\n",
              "    <div class=\"colab-df-container\">\n",
              "      <div>\n",
              "<style scoped>\n",
              "    .dataframe tbody tr th:only-of-type {\n",
              "        vertical-align: middle;\n",
              "    }\n",
              "\n",
              "    .dataframe tbody tr th {\n",
              "        vertical-align: top;\n",
              "    }\n",
              "\n",
              "    .dataframe thead th {\n",
              "        text-align: right;\n",
              "    }\n",
              "</style>\n",
              "<table border=\"1\" class=\"dataframe\">\n",
              "  <thead>\n",
              "    <tr style=\"text-align: right;\">\n",
              "      <th></th>\n",
              "      <th>age</th>\n",
              "      <th>sex</th>\n",
              "      <th>cp</th>\n",
              "      <th>trestbps</th>\n",
              "      <th>chol</th>\n",
              "      <th>fbs</th>\n",
              "      <th>restecg</th>\n",
              "      <th>thalach</th>\n",
              "      <th>exang</th>\n",
              "      <th>oldpeak</th>\n",
              "      <th>slope</th>\n",
              "      <th>ca</th>\n",
              "      <th>thal</th>\n",
              "      <th>target</th>\n",
              "    </tr>\n",
              "  </thead>\n",
              "  <tbody>\n",
              "    <tr>\n",
              "      <th>0</th>\n",
              "      <td>63</td>\n",
              "      <td>1</td>\n",
              "      <td>3</td>\n",
              "      <td>145</td>\n",
              "      <td>233</td>\n",
              "      <td>1</td>\n",
              "      <td>0</td>\n",
              "      <td>150</td>\n",
              "      <td>0</td>\n",
              "      <td>2.3</td>\n",
              "      <td>0</td>\n",
              "      <td>0</td>\n",
              "      <td>1</td>\n",
              "      <td>1</td>\n",
              "    </tr>\n",
              "    <tr>\n",
              "      <th>1</th>\n",
              "      <td>37</td>\n",
              "      <td>1</td>\n",
              "      <td>2</td>\n",
              "      <td>130</td>\n",
              "      <td>250</td>\n",
              "      <td>0</td>\n",
              "      <td>1</td>\n",
              "      <td>187</td>\n",
              "      <td>0</td>\n",
              "      <td>3.5</td>\n",
              "      <td>0</td>\n",
              "      <td>0</td>\n",
              "      <td>2</td>\n",
              "      <td>1</td>\n",
              "    </tr>\n",
              "    <tr>\n",
              "      <th>2</th>\n",
              "      <td>41</td>\n",
              "      <td>0</td>\n",
              "      <td>1</td>\n",
              "      <td>130</td>\n",
              "      <td>204</td>\n",
              "      <td>0</td>\n",
              "      <td>0</td>\n",
              "      <td>172</td>\n",
              "      <td>0</td>\n",
              "      <td>1.4</td>\n",
              "      <td>2</td>\n",
              "      <td>0</td>\n",
              "      <td>2</td>\n",
              "      <td>1</td>\n",
              "    </tr>\n",
              "    <tr>\n",
              "      <th>3</th>\n",
              "      <td>56</td>\n",
              "      <td>1</td>\n",
              "      <td>1</td>\n",
              "      <td>120</td>\n",
              "      <td>236</td>\n",
              "      <td>0</td>\n",
              "      <td>1</td>\n",
              "      <td>178</td>\n",
              "      <td>0</td>\n",
              "      <td>0.8</td>\n",
              "      <td>2</td>\n",
              "      <td>0</td>\n",
              "      <td>2</td>\n",
              "      <td>1</td>\n",
              "    </tr>\n",
              "    <tr>\n",
              "      <th>4</th>\n",
              "      <td>57</td>\n",
              "      <td>0</td>\n",
              "      <td>0</td>\n",
              "      <td>120</td>\n",
              "      <td>354</td>\n",
              "      <td>0</td>\n",
              "      <td>1</td>\n",
              "      <td>163</td>\n",
              "      <td>1</td>\n",
              "      <td>0.6</td>\n",
              "      <td>2</td>\n",
              "      <td>0</td>\n",
              "      <td>2</td>\n",
              "      <td>1</td>\n",
              "    </tr>\n",
              "  </tbody>\n",
              "</table>\n",
              "</div>\n",
              "      <button class=\"colab-df-convert\" onclick=\"convertToInteractive('df-9f22043f-2d65-40fa-9a89-077c08bd450e')\"\n",
              "              title=\"Convert this dataframe to an interactive table.\"\n",
              "              style=\"display:none;\">\n",
              "        \n",
              "  <svg xmlns=\"http://www.w3.org/2000/svg\" height=\"24px\"viewBox=\"0 0 24 24\"\n",
              "       width=\"24px\">\n",
              "    <path d=\"M0 0h24v24H0V0z\" fill=\"none\"/>\n",
              "    <path d=\"M18.56 5.44l.94 2.06.94-2.06 2.06-.94-2.06-.94-.94-2.06-.94 2.06-2.06.94zm-11 1L8.5 8.5l.94-2.06 2.06-.94-2.06-.94L8.5 2.5l-.94 2.06-2.06.94zm10 10l.94 2.06.94-2.06 2.06-.94-2.06-.94-.94-2.06-.94 2.06-2.06.94z\"/><path d=\"M17.41 7.96l-1.37-1.37c-.4-.4-.92-.59-1.43-.59-.52 0-1.04.2-1.43.59L10.3 9.45l-7.72 7.72c-.78.78-.78 2.05 0 2.83L4 21.41c.39.39.9.59 1.41.59.51 0 1.02-.2 1.41-.59l7.78-7.78 2.81-2.81c.8-.78.8-2.07 0-2.86zM5.41 20L4 18.59l7.72-7.72 1.47 1.35L5.41 20z\"/>\n",
              "  </svg>\n",
              "      </button>\n",
              "      \n",
              "  <style>\n",
              "    .colab-df-container {\n",
              "      display:flex;\n",
              "      flex-wrap:wrap;\n",
              "      gap: 12px;\n",
              "    }\n",
              "\n",
              "    .colab-df-convert {\n",
              "      background-color: #E8F0FE;\n",
              "      border: none;\n",
              "      border-radius: 50%;\n",
              "      cursor: pointer;\n",
              "      display: none;\n",
              "      fill: #1967D2;\n",
              "      height: 32px;\n",
              "      padding: 0 0 0 0;\n",
              "      width: 32px;\n",
              "    }\n",
              "\n",
              "    .colab-df-convert:hover {\n",
              "      background-color: #E2EBFA;\n",
              "      box-shadow: 0px 1px 2px rgba(60, 64, 67, 0.3), 0px 1px 3px 1px rgba(60, 64, 67, 0.15);\n",
              "      fill: #174EA6;\n",
              "    }\n",
              "\n",
              "    [theme=dark] .colab-df-convert {\n",
              "      background-color: #3B4455;\n",
              "      fill: #D2E3FC;\n",
              "    }\n",
              "\n",
              "    [theme=dark] .colab-df-convert:hover {\n",
              "      background-color: #434B5C;\n",
              "      box-shadow: 0px 1px 3px 1px rgba(0, 0, 0, 0.15);\n",
              "      filter: drop-shadow(0px 1px 2px rgba(0, 0, 0, 0.3));\n",
              "      fill: #FFFFFF;\n",
              "    }\n",
              "  </style>\n",
              "\n",
              "      <script>\n",
              "        const buttonEl =\n",
              "          document.querySelector('#df-9f22043f-2d65-40fa-9a89-077c08bd450e button.colab-df-convert');\n",
              "        buttonEl.style.display =\n",
              "          google.colab.kernel.accessAllowed ? 'block' : 'none';\n",
              "\n",
              "        async function convertToInteractive(key) {\n",
              "          const element = document.querySelector('#df-9f22043f-2d65-40fa-9a89-077c08bd450e');\n",
              "          const dataTable =\n",
              "            await google.colab.kernel.invokeFunction('convertToInteractive',\n",
              "                                                     [key], {});\n",
              "          if (!dataTable) return;\n",
              "\n",
              "          const docLinkHtml = 'Like what you see? Visit the ' +\n",
              "            '<a target=\"_blank\" href=https://colab.research.google.com/notebooks/data_table.ipynb>data table notebook</a>'\n",
              "            + ' to learn more about interactive tables.';\n",
              "          element.innerHTML = '';\n",
              "          dataTable['output_type'] = 'display_data';\n",
              "          await google.colab.output.renderOutput(dataTable, element);\n",
              "          const docLink = document.createElement('div');\n",
              "          docLink.innerHTML = docLinkHtml;\n",
              "          element.appendChild(docLink);\n",
              "        }\n",
              "      </script>\n",
              "    </div>\n",
              "  </div>\n",
              "  "
            ]
          },
          "metadata": {},
          "execution_count": 4
        }
      ]
    },
    {
      "cell_type": "code",
      "source": [
        "dataset = np.asarray(df)\n",
        "X = dataset[:,:-1]\n",
        "y = dataset[:,-1:].astype(int)"
      ],
      "metadata": {
        "id": "seiaf7UpcYQS"
      },
      "execution_count": 5,
      "outputs": []
    },
    {
      "cell_type": "code",
      "source": [
        "y = np.squeeze(np.asarray(y))"
      ],
      "metadata": {
        "id": "fEa1PN9HeX_6"
      },
      "execution_count": 6,
      "outputs": []
    },
    {
      "cell_type": "code",
      "source": [
        "set(y)"
      ],
      "metadata": {
        "colab": {
          "base_uri": "https://localhost:8080/"
        },
        "id": "Iz0t9BYKtFrc",
        "outputId": "d3f2e2d0-f202-4699-c265-828c5a308bf3"
      },
      "execution_count": 7,
      "outputs": [
        {
          "output_type": "execute_result",
          "data": {
            "text/plain": [
              "{0, 1}"
            ]
          },
          "metadata": {},
          "execution_count": 7
        }
      ]
    },
    {
      "cell_type": "code",
      "source": [
        "X.shape, y.shape"
      ],
      "metadata": {
        "colab": {
          "base_uri": "https://localhost:8080/"
        },
        "id": "B_yM3CH0fLwd",
        "outputId": "75af12c5-8b0e-413a-b08b-ed30951348f7"
      },
      "execution_count": 8,
      "outputs": [
        {
          "output_type": "execute_result",
          "data": {
            "text/plain": [
              "((303, 13), (303,))"
            ]
          },
          "metadata": {},
          "execution_count": 8
        }
      ]
    },
    {
      "cell_type": "markdown",
      "source": [
        "### Testando a regressão logistica e KNN com resubstituição"
      ],
      "metadata": {
        "id": "snMizCWRHk6f"
      }
    },
    {
      "cell_type": "code",
      "source": [
        "from sklearn.linear_model import LogisticRegression\n",
        "from sklearn.metrics import accuracy_score\n",
        "\n",
        "modelo = LogisticRegression(max_iter=1000)\n",
        "modelo.fit(X, y)\n",
        "\n",
        "ypred = modelo.predict(X)"
      ],
      "metadata": {
        "id": "24VLOJQ0ci9q"
      },
      "execution_count": 9,
      "outputs": []
    },
    {
      "cell_type": "code",
      "source": [
        "acuracia = accuracy_score(y, ypred)\n",
        "acuracia"
      ],
      "metadata": {
        "colab": {
          "base_uri": "https://localhost:8080/"
        },
        "id": "OgqIaFBlcvcZ",
        "outputId": "9e5e4b56-383d-4419-b642-7a88ea0fc3e8"
      },
      "execution_count": 10,
      "outputs": [
        {
          "output_type": "execute_result",
          "data": {
            "text/plain": [
              "0.8481848184818482"
            ]
          },
          "metadata": {},
          "execution_count": 10
        }
      ]
    },
    {
      "cell_type": "code",
      "source": [
        "from sklearn.neighbors import KNeighborsClassifier\n",
        "\n",
        "#Por padrão o n_neighbors é igual a 5. Se colocarmos esse parâmetro como 1, a acurácia utilizando resubstituição daria 1. \n",
        "modelo = KNeighborsClassifier() \n",
        "modelo.fit(X, y)\n",
        "\n",
        "ypred = modelo.predict(X)\n"
      ],
      "metadata": {
        "id": "M1t4PFEmG5gr"
      },
      "execution_count": 11,
      "outputs": []
    },
    {
      "cell_type": "code",
      "source": [
        "acuracia = accuracy_score(y, ypred)\n",
        "acuracia"
      ],
      "metadata": {
        "colab": {
          "base_uri": "https://localhost:8080/"
        },
        "id": "-QqCvH7PHWiv",
        "outputId": "2013092c-d508-4d80-d128-b66fb76bc036"
      },
      "execution_count": 12,
      "outputs": [
        {
          "output_type": "execute_result",
          "data": {
            "text/plain": [
              "0.7656765676567657"
            ]
          },
          "metadata": {},
          "execution_count": 12
        }
      ]
    },
    {
      "cell_type": "markdown",
      "source": [
        "### Separando o Dataset em treino e teste, e validando os algoritmos Regressão Logistica e KNN."
      ],
      "metadata": {
        "id": "J0tRk2ceIe9n"
      }
    },
    {
      "cell_type": "code",
      "source": [
        "from sklearn.model_selection import train_test_split\n",
        "\n",
        "X_treino, X_teste, y_treino, y_teste = train_test_split(X, y, test_size=0.3, random_state=42)"
      ],
      "metadata": {
        "id": "XktVWW4qIlXC"
      },
      "execution_count": 13,
      "outputs": []
    },
    {
      "cell_type": "code",
      "source": [
        "modelo = LogisticRegression(max_iter=1000)\n",
        "modelo.fit(X_treino, y_treino)\n",
        "\n",
        "ypred = modelo.predict(X_teste)\n",
        "acuracia = accuracy_score(y_teste, ypred)\n",
        "acuracia"
      ],
      "metadata": {
        "colab": {
          "base_uri": "https://localhost:8080/"
        },
        "id": "O0oUTN7hJeBQ",
        "outputId": "2784c2d0-9d2f-453f-89f0-62d52bcfbc95"
      },
      "execution_count": 14,
      "outputs": [
        {
          "output_type": "execute_result",
          "data": {
            "text/plain": [
              "0.8131868131868132"
            ]
          },
          "metadata": {},
          "execution_count": 14
        }
      ]
    },
    {
      "cell_type": "code",
      "source": [
        "modelo = KNeighborsClassifier()\n",
        "modelo.fit(X_treino, y_treino)\n",
        "\n",
        "ypred = modelo.predict(X_teste)\n",
        "acuracia = accuracy_score(y_teste, ypred)\n",
        "acuracia"
      ],
      "metadata": {
        "colab": {
          "base_uri": "https://localhost:8080/"
        },
        "id": "u807sdE-J_1_",
        "outputId": "aa53b0f9-0ab9-473e-fbeb-82dc738e8e11"
      },
      "execution_count": 15,
      "outputs": [
        {
          "output_type": "execute_result",
          "data": {
            "text/plain": [
              "0.6593406593406593"
            ]
          },
          "metadata": {},
          "execution_count": 15
        }
      ]
    },
    {
      "cell_type": "code",
      "source": [
        "# Verificando a discrepância entre as características\n",
        "import numpy as np\n",
        "import matplotlib.pyplot as plt\n",
        "\n",
        "plt.bar(list(range(X.shape[1])), np.mean(X, axis=0))\n",
        "plt.show()"
      ],
      "metadata": {
        "colab": {
          "base_uri": "https://localhost:8080/",
          "height": 265
        },
        "id": "6Rk-F_wwZCr4",
        "outputId": "2c152aae-6bb8-4d9e-c38c-63459a2eda3f"
      },
      "execution_count": 16,
      "outputs": [
        {
          "output_type": "display_data",
          "data": {
            "text/plain": [
              "<Figure size 432x288 with 1 Axes>"
            ],
            "image/png": "[encoded data removed]"
          },
          "metadata": {
            "needs_background": "light"
          }
        }
      ]
    },
    {
      "cell_type": "markdown",
      "source": [
        "### Padronização dos dados"
      ],
      "metadata": {
        "id": "kJKl9hVZGfgw"
      }
    },
    {
      "cell_type": "code",
      "source": [
        "from sklearn.preprocessing import StandardScaler\n",
        "scaler = StandardScaler()\n",
        "\n",
        "X_std = scaler.fit_transform(X)"
      ],
      "metadata": {
        "id": "er-zehYWaaZp"
      },
      "execution_count": 17,
      "outputs": []
    },
    {
      "cell_type": "markdown",
      "source": [
        "### Testando o modelo regressão logistica com validação cruzada com e sem padronização dos dados"
      ],
      "metadata": {
        "id": "O-QoghTUG-4o"
      }
    },
    {
      "cell_type": "code",
      "source": [
        "from sklearn.model_selection import cross_validate\n",
        "\n",
        "modelo = LogisticRegression(max_iter=1000)\n",
        "\n",
        "scores = cross_validate(modelo, X, y)\n",
        "semPadronizacao = np.mean(scores['test_score'])\n",
        "print(f\"Sem padronização: {semPadronizacao}\")"
      ],
      "metadata": {
        "colab": {
          "base_uri": "https://localhost:8080/"
        },
        "id": "jLnVxvtfgeNB",
        "outputId": "85bd9f1b-d230-481c-9dee-17c1720c683c"
      },
      "execution_count": 18,
      "outputs": [
        {
          "output_type": "stream",
          "name": "stdout",
          "text": [
            "Sem padronização: 0.8315300546448088\n"
          ]
        }
      ]
    },
    {
      "cell_type": "code",
      "source": [
        "scores = cross_validate(modelo, X_std, y)\n",
        "comPadronizacao = np.mean(scores['test_score'])\n",
        "print(f\"Com padronização: {comPadronizacao}\")"
      ],
      "metadata": {
        "colab": {
          "base_uri": "https://localhost:8080/"
        },
        "id": "t9mCVpuPiAcc",
        "outputId": "18963e0a-6031-4c14-d23a-8f80ef694093"
      },
      "execution_count": 19,
      "outputs": [
        {
          "output_type": "stream",
          "name": "stdout",
          "text": [
            "Com padronização: 0.8348633879781422\n"
          ]
        }
      ]
    },
    {
      "cell_type": "code",
      "source": [
        "from sklearn.pipeline import Pipeline\n",
        "\n",
        "modelo = Pipeline([\n",
        "    (\"padronizacao\", scaler),\n",
        "    (\"classificador\", LogisticRegression())\n",
        "])\n",
        "\n",
        "scores = cross_validate(modelo, X, y)\n",
        "aninhado = np.mean(scores['test_score'])\n",
        "print(f\"Aninhado: {aninhado}\")"
      ],
      "metadata": {
        "colab": {
          "base_uri": "https://localhost:8080/"
        },
        "id": "3-0P54awiqbp",
        "outputId": "69354e3a-ca22-4c1f-c978-911e6c45eda1"
      },
      "execution_count": 20,
      "outputs": [
        {
          "output_type": "stream",
          "name": "stdout",
          "text": [
            "Aninhado: 0.8348633879781422\n"
          ]
        }
      ]
    },
    {
      "cell_type": "code",
      "source": [
        "colunas = [\"Sem Padronização\", \"Com Padronização\", \"Aninhado\"]\n",
        "plt.bar(colunas, np.array([semPadronizacao, comPadronizacao, aninhado])-0.8, bottom=0.8)\n",
        "plt.show()"
      ],
      "metadata": {
        "colab": {
          "base_uri": "https://localhost:8080/",
          "height": 265
        },
        "id": "Pir84306k4W6",
        "outputId": "8185e030-00a3-4d2f-8202-ba1a7e1f7af6"
      },
      "execution_count": 21,
      "outputs": [
        {
          "output_type": "display_data",
          "data": {
            "text/plain": [
              "<Figure size 432x288 with 1 Axes>"
            ],
            "image/png": "[encoded data removed]"
          },
          "metadata": {
            "needs_background": "light"
          }
        }
      ]
    },
    {
      "cell_type": "markdown",
      "source": [
        "### Testando o modelo KNN com validação cruzada com e sem padronização dos dados"
      ],
      "metadata": {
        "id": "49JH0sSJHd-t"
      }
    },
    {
      "cell_type": "code",
      "source": [
        "from sklearn.model_selection import cross_validate\n",
        "\n",
        "modelo = KNeighborsClassifier()\n",
        "\n",
        "scores = cross_validate(modelo, X, y)\n",
        "semPadronizacao = np.mean(scores['test_score'])\n",
        "print(f\"Sem padronização: {semPadronizacao}\")"
      ],
      "metadata": {
        "colab": {
          "base_uri": "https://localhost:8080/"
        },
        "id": "Y3GR2n-x0I-v",
        "outputId": "511fd3ef-1f5d-4108-f3eb-deabb3739765"
      },
      "execution_count": 22,
      "outputs": [
        {
          "output_type": "stream",
          "name": "stdout",
          "text": [
            "Sem padronização: 0.643879781420765\n"
          ]
        }
      ]
    },
    {
      "cell_type": "code",
      "source": [
        "scores = cross_validate(modelo, X_std, y)\n",
        "comPadronizacao = np.mean(scores['test_score'])\n",
        "print(f\"Com padronização: {comPadronizacao}\")"
      ],
      "metadata": {
        "colab": {
          "base_uri": "https://localhost:8080/"
        },
        "id": "tWyGPnPI0Wyg",
        "outputId": "fb9b1d1e-2906-47f2-8da4-cc39c83cd3ab"
      },
      "execution_count": 23,
      "outputs": [
        {
          "output_type": "stream",
          "name": "stdout",
          "text": [
            "Com padronização: 0.8118579234972678\n"
          ]
        }
      ]
    },
    {
      "cell_type": "code",
      "source": [
        "from sklearn.pipeline import Pipeline\n",
        "\n",
        "modelo = Pipeline([\n",
        "    (\"padronizacao\", scaler),\n",
        "    (\"classificador\", KNeighborsClassifier())\n",
        "])\n",
        "\n",
        "scores = cross_validate(modelo, X, y)\n",
        "aninhado = np.mean(scores['test_score'])\n",
        "print(f\"Aninhado: {aninhado}\")"
      ],
      "metadata": {
        "colab": {
          "base_uri": "https://localhost:8080/"
        },
        "id": "y00Gd6n40eoE",
        "outputId": "d0aca57c-903b-45f3-8af3-231afe42e16f"
      },
      "execution_count": 24,
      "outputs": [
        {
          "output_type": "stream",
          "name": "stdout",
          "text": [
            "Aninhado: 0.8150819672131148\n"
          ]
        }
      ]
    },
    {
      "cell_type": "code",
      "source": [
        "colunas = [\"Sem Padronização\", \"Com Padronização\", \"Aninhado\"]\n",
        "plt.bar(colunas, np.array([semPadronizacao, comPadronizacao, aninhado])-0.6, bottom=0.6)\n",
        "plt.show()"
      ],
      "metadata": {
        "colab": {
          "base_uri": "https://localhost:8080/",
          "height": 265
        },
        "id": "t7km06EM0ph2",
        "outputId": "6709bbda-d4f1-4098-a190-a1f4da145b36"
      },
      "execution_count": 25,
      "outputs": [
        {
          "output_type": "display_data",
          "data": {
            "text/plain": [
              "<Figure size 432x288 with 1 Axes>"
            ],
            "image/png": "[encoded data removed]"
          },
          "metadata": {
            "needs_background": "light"
          }
        }
      ]
    },
    {
      "cell_type": "markdown",
      "source": [
        "### Pipeline dentro do Grid Search com padronização dos dados testando a variação 3, 5 e 7 do parâmetro n_neighbors do KNeighborsClassifier"
      ],
      "metadata": {
        "id": "2EBed_Z2_Zdf"
      }
    },
    {
      "cell_type": "code",
      "source": [
        "from sklearn.model_selection import GridSearchCV, RepeatedKFold\n",
        "from sklearn.metrics import make_scorer, accuracy_score\n",
        "from sklearn.pipeline import Pipeline\n",
        "\n",
        "pipeline = Pipeline([\n",
        "    (\"padronizacao\", scaler),\n",
        "    (\"knn\", KNeighborsClassifier())\n",
        "])\n",
        "\n",
        "parametros = {'knn__n_neighbors': [3,5,7]}\n",
        "cv = RepeatedKFold(n_splits=5, n_repeats=10)\n",
        "modelo = GridSearchCV(pipeline, parametros, scoring='accuracy', cv=cv)\n",
        "\n",
        "scores = cross_validate(modelo, X, y, scoring=make_scorer(accuracy_score, greater_is_better=True))\n",
        "comPadronizacao = np.mean(scores['test_score'])\n",
        "print(f\"Com padronização: {comPadronizacao}\")\n"
      ],
      "metadata": {
        "colab": {
          "base_uri": "https://localhost:8080/"
        },
        "id": "ILh05mov0qcP",
        "outputId": "ca609191-71de-4823-f6b4-945364478f10"
      },
      "execution_count": 26,
      "outputs": [
        {
          "output_type": "stream",
          "name": "stdout",
          "text": [
            "Com padronização: 0.821639344262295\n"
          ]
        }
      ]
    },
    {
      "cell_type": "markdown",
      "source": [
        "### Pipeline dentro do Grid Search sem padronização dos dados testando a variação 3, 5 e 7 do parâmetro n_neighbors do KNeighborsClassifier"
      ],
      "metadata": {
        "id": "z9EEBfT2_zUv"
      }
    },
    {
      "cell_type": "code",
      "source": [
        "from sklearn.model_selection import GridSearchCV, RepeatedKFold\n",
        "from sklearn.metrics import make_scorer, accuracy_score\n",
        "from sklearn.pipeline import Pipeline\n",
        "\n",
        "pipeline = Pipeline([\n",
        "    (\"knn\", KNeighborsClassifier())\n",
        "])\n",
        "\n",
        "parametros = {'knn__n_neighbors': [3,5,7]}\n",
        "cv = RepeatedKFold(n_splits=5, n_repeats=10)\n",
        "modelo = GridSearchCV(pipeline, parametros, scoring='accuracy', cv=cv)\n",
        "\n",
        "scores = cross_validate(modelo, X, y, scoring=make_scorer(accuracy_score, greater_is_better=True))\n",
        "semPadronizacao = np.mean(scores['test_score'])\n",
        "print(f\"Sem padronização: {semPadronizacao}\")"
      ],
      "metadata": {
        "colab": {
          "base_uri": "https://localhost:8080/"
        },
        "id": "J71axy2V3jzT",
        "outputId": "55a3698c-cc13-4858-e800-345867e0e8f9"
      },
      "execution_count": 27,
      "outputs": [
        {
          "output_type": "stream",
          "name": "stdout",
          "text": [
            "Sem padronização: 0.6504918032786885\n"
          ]
        }
      ]
    },
    {
      "cell_type": "markdown",
      "source": [
        "### Pipeline dentro do Grid Search com padronização dos dados testando a variação 'newton-cg', 'lbfgs', 'liblinear', 'sag' e 'saga' do parâmetro solver da regressão logistica."
      ],
      "metadata": {
        "id": "OqeL_GWXIqnN"
      }
    },
    {
      "cell_type": "code",
      "source": [
        "from sklearn.model_selection import GridSearchCV, RepeatedKFold\n",
        "from sklearn.metrics import make_scorer, accuracy_score\n",
        "from sklearn.pipeline import Pipeline\n",
        "\n",
        "pipeline = Pipeline([\n",
        "    (\"padronizacao\", scaler),\n",
        "    (\"lr\", LogisticRegression())\n",
        "])\n",
        "\n",
        "parametros = {'lr__solver': ['newton-cg', 'lbfgs', 'liblinear', 'sag', 'saga']}\n",
        "cv = RepeatedKFold(n_splits=5, n_repeats=10)\n",
        "modelo = GridSearchCV(pipeline, parametros, scoring='accuracy', cv=cv)\n",
        "\n",
        "scores = cross_validate(modelo, X, y, scoring=make_scorer(accuracy_score, greater_is_better=True))\n",
        "comPadronizacao = np.mean(scores['test_score'])\n",
        "print(f\"Com padronização: {comPadronizacao}\")"
      ],
      "metadata": {
        "colab": {
          "base_uri": "https://localhost:8080/"
        },
        "id": "FaQ0F0aW__nW",
        "outputId": "d96ed2d9-88b9-4eff-f8f9-befa3ccf0984"
      },
      "execution_count": 28,
      "outputs": [
        {
          "output_type": "stream",
          "name": "stdout",
          "text": [
            "Com padronização: 0.8348633879781422\n"
          ]
        }
      ]
    },
    {
      "cell_type": "markdown",
      "source": [
        "### Pipeline dentro do Grid Search sem padronização dos dados testando a variação 'newton-cg', 'lbfgs', 'liblinear', 'sag' e 'saga' do parâmetro solver da regressão logistica."
      ],
      "metadata": {
        "id": "YcKjDq4hI8gV"
      }
    },
    {
      "cell_type": "code",
      "source": [
        "from sklearn.model_selection import GridSearchCV, RepeatedKFold\n",
        "from sklearn.metrics import make_scorer, accuracy_score\n",
        "from sklearn.pipeline import Pipeline\n",
        "\n",
        "pipeline = Pipeline([\n",
        "    (\"lr\", LogisticRegression(max_iter=10000))\n",
        "])\n",
        "\n",
        "parametros = {'lr__solver': ['newton-cg', 'lbfgs', 'liblinear', 'sag', 'saga']}\n",
        "cv = RepeatedKFold(n_splits=5, n_repeats=10)\n",
        "modelo = GridSearchCV(pipeline, parametros, scoring='accuracy', cv=cv)\n",
        "\n",
        "scores = cross_validate(modelo, X, y, scoring=make_scorer(accuracy_score, greater_is_better=True))\n",
        "semPadronizacao = np.mean(scores['test_score'])\n",
        "print(f\"Sem padronização: {semPadronizacao}\")"
      ],
      "metadata": {
        "colab": {
          "base_uri": "https://localhost:8080/"
        },
        "id": "cI-tqeG_DCfR",
        "outputId": "a68533fd-da6d-41f1-b3c1-052c0e026690"
      },
      "execution_count": 29,
      "outputs": [
        {
          "output_type": "stream",
          "name": "stdout",
          "text": [
            "Sem padronização: 0.828087431693989\n"
          ]
        }
      ]
    },
    {
      "cell_type": "markdown",
      "source": [
        "### Grid Search dentro do Pipeline com padronização dos dados testando a variação 3, 5 e 7 do parâmetro n_neighbors do KNeighborsClassifier"
      ],
      "metadata": {
        "id": "9nIihlN9Mr-0"
      }
    },
    {
      "cell_type": "code",
      "source": [
        "from sklearn.model_selection import GridSearchCV, RepeatedKFold\n",
        "from sklearn.metrics import make_scorer, accuracy_score\n",
        "from sklearn.pipeline import Pipeline\n",
        "\n",
        "parametros = {'n_neighbors': [3,5,7]}\n",
        "\n",
        "cv = RepeatedKFold(n_splits=5, n_repeats=10)\n",
        "GridSearchKNN = GridSearchCV(KNeighborsClassifier(), parametros, scoring='accuracy', cv=cv)\n",
        "\n",
        "modelo = Pipeline([\n",
        "    (\"padronizacao\", scaler),\n",
        "    (\"gsknn\", GridSearchKNN)\n",
        "])\n",
        "\n",
        "scores = cross_validate(modelo, X, y, scoring=make_scorer(accuracy_score, greater_is_better=True))\n",
        "comPadronizacao = np.mean(scores['test_score'])\n",
        "print(f\"Com padronização: {comPadronizacao}\")"
      ],
      "metadata": {
        "colab": {
          "base_uri": "https://localhost:8080/"
        },
        "id": "shn0S9DgKn85",
        "outputId": "6fe34c07-ecce-49c9-da6e-eb6851ea476b"
      },
      "execution_count": 30,
      "outputs": [
        {
          "output_type": "stream",
          "name": "stdout",
          "text": [
            "Com padronização: 0.8314754098360655\n"
          ]
        }
      ]
    },
    {
      "cell_type": "markdown",
      "source": [
        "### Grid Search dentro do Pipeline sem padronização dos dados testando a variação 3, 5 e 7 do parâmetro n_neighbors do KNeighborsClassifier"
      ],
      "metadata": {
        "id": "AwqlWKlRM1n4"
      }
    },
    {
      "cell_type": "code",
      "source": [
        "from sklearn.model_selection import GridSearchCV, RepeatedKFold\n",
        "from sklearn.metrics import make_scorer, accuracy_score\n",
        "from sklearn.pipeline import Pipeline\n",
        "\n",
        "parametros = {'n_neighbors': [3,5,7]}\n",
        "\n",
        "cv = RepeatedKFold(n_splits=5, n_repeats=10)\n",
        "GridSearchKNN = GridSearchCV(KNeighborsClassifier(), parametros, scoring='accuracy', cv=cv)\n",
        "\n",
        "modelo = Pipeline([\n",
        "    (\"gsknn\", GridSearchKNN)\n",
        "])\n",
        "\n",
        "scores = cross_validate(modelo, X, y, scoring=make_scorer(accuracy_score, greater_is_better=True))\n",
        "semPadronizacao = np.mean(scores['test_score'])\n",
        "print(f\"Sem padronização: {semPadronizacao}\")"
      ],
      "metadata": {
        "colab": {
          "base_uri": "https://localhost:8080/"
        },
        "id": "-glwweu-M40_",
        "outputId": "3a1fd6ed-d81b-4230-bcda-2fbba0ea38de"
      },
      "execution_count": 31,
      "outputs": [
        {
          "output_type": "stream",
          "name": "stdout",
          "text": [
            "Sem padronização: 0.6240983606557378\n"
          ]
        }
      ]
    },
    {
      "cell_type": "markdown",
      "source": [
        "### Grid Search dentro do Pipeline com padronização dos dados testando a variação 'newton-cg', 'lbfgs', 'liblinear', 'sag' e 'saga' do parâmetro solver da regressão logistica."
      ],
      "metadata": {
        "id": "S4TbYO4NNkKq"
      }
    },
    {
      "cell_type": "code",
      "source": [
        "from sklearn.model_selection import GridSearchCV, RepeatedKFold\n",
        "from sklearn.metrics import make_scorer, accuracy_score\n",
        "from sklearn.pipeline import Pipeline\n",
        "\n",
        "parametros = {'solver': ['newton-cg', 'lbfgs', 'liblinear', 'sag', 'saga']}\n",
        "\n",
        "cv = RepeatedKFold(n_splits=5, n_repeats=10)\n",
        "GridSearchKNN = GridSearchCV(LogisticRegression(), parametros, scoring='accuracy', cv=cv)\n",
        "\n",
        "modelo = Pipeline([\n",
        "    (\"padronizacao\", scaler),\n",
        "    (\"gsknn\", GridSearchKNN)\n",
        "])\n",
        "\n",
        "scores = cross_validate(modelo, X, y, scoring=make_scorer(accuracy_score, greater_is_better=True))\n",
        "comPadronizacao = np.mean(scores['test_score'])\n",
        "print(f\"Com padronização: {comPadronizacao}\")"
      ],
      "metadata": {
        "colab": {
          "base_uri": "https://localhost:8080/"
        },
        "id": "DmJSIvfUNGx2",
        "outputId": "dcee2b83-7458-4bda-be43-b9d623998354"
      },
      "execution_count": 32,
      "outputs": [
        {
          "output_type": "stream",
          "name": "stdout",
          "text": [
            "Com padronização: 0.8348633879781422\n"
          ]
        }
      ]
    },
    {
      "cell_type": "markdown",
      "source": [
        "### Grid Search dentro do Pipeline sem padronização dos dados testando a variação 'newton-cg', 'lbfgs', 'liblinear', 'sag' e 'saga' do parâmetro solver da regressão logistica."
      ],
      "metadata": {
        "id": "TutHltObN4Dm"
      }
    },
    {
      "cell_type": "code",
      "source": [
        "from sklearn.model_selection import GridSearchCV, RepeatedKFold\n",
        "from sklearn.metrics import make_scorer, accuracy_score\n",
        "from sklearn.pipeline import Pipeline\n",
        "\n",
        "parametros = {'solver': ['newton-cg', 'lbfgs', 'liblinear', 'sag', 'saga']}\n",
        "\n",
        "cv = RepeatedKFold(n_splits=5, n_repeats=10)\n",
        "GridSearchKNN = GridSearchCV(LogisticRegression(max_iter=10000), parametros, scoring='accuracy', cv=cv)\n",
        "\n",
        "modelo = Pipeline([\n",
        "    (\"gsknn\", GridSearchKNN)\n",
        "])\n",
        "\n",
        "scores = cross_validate(modelo, X, y, scoring=make_scorer(accuracy_score, greater_is_better=True))\n",
        "semPadronizacao = np.mean(scores['test_score'])\n",
        "print(f\"Com padronização: {semPadronizacao}\")"
      ],
      "metadata": {
        "colab": {
          "base_uri": "https://localhost:8080/"
        },
        "id": "RZ8HTnDCNvu1",
        "outputId": "d00aa0a3-4852-4fc6-ef16-83ae06c455f6"
      },
      "execution_count": 33,
      "outputs": [
        {
          "output_type": "stream",
          "name": "stdout",
          "text": [
            "Com padronização: 0.821584699453552\n"
          ]
        }
      ]
    }
  ]
}